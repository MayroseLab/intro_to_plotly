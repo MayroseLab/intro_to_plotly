{
 "cells": [
  {
   "cell_type": "markdown",
   "id": "8059b14e-f5cd-4c9a-ab86-cac0c36a5278",
   "metadata": {},
   "source": [
    "# Introduction to plotly.py\n",
    "A basic intro to interactive plotting with the plotly python package.  \n",
    "<img src=\"https://upload.wikimedia.org/wikipedia/commons/thumb/8/8a/Plotly_logo_for_digital_final_%286%29.png/800px-Plotly_logo_for_digital_final_%286%29.png?20210106093240\" width=100 height=100>"
   ]
  },
  {
   "cell_type": "markdown",
   "id": "63c25939-e4b6-4a26-bb23-8bd8a9ab55bd",
   "metadata": {},
   "source": [
    "## What is plotly?\n",
    "* A python/R/MATLAB/Javascript API to the plotly.js library\n",
    "* Easily create interactive plots\n",
    "* Great for data exploration"
   ]
  },
  {
   "cell_type": "markdown",
   "id": "c5bab0c0-b657-48ca-9b5c-1d15267c3c03",
   "metadata": {},
   "source": [
    "### API levels in python\n",
    "1) plotly figure factory\n",
    "2) plotly express\n",
    "3) plotly graph object\n",
    "4) Dash"
   ]
  },
  {
   "cell_type": "markdown",
   "id": "201871a0-9b02-47f9-a5e8-c24853a352c2",
   "metadata": {},
   "source": [
    "## Intalling plotly\n",
    "Easiest way - conda/mamba:  \n",
    "`conda install -c plotly plotly plotly-orca`"
   ]
  },
  {
   "cell_type": "markdown",
   "id": "010e3c2f-77e6-42ee-a788-05aed2fc6b69",
   "metadata": {},
   "source": [
    "## Example dataset - Titanic\n",
    "<img src=\"https://media.istockphoto.com/vectors/the-big-passenger-ship-collided-with-an-iceberg-and-sank-into-the-sea-vector-id1337405629\" width=400 height=400>"
   ]
  },
  {
   "cell_type": "code",
   "execution_count": null,
   "id": "1cd7a0e7-eb28-4ad6-9d31-11a5ef831918",
   "metadata": {},
   "outputs": [],
   "source": [
    "import pandas as pd"
   ]
  },
  {
   "cell_type": "code",
   "execution_count": null,
   "id": "b1d61a4e-0230-42a8-b162-e5143fbdba6a",
   "metadata": {},
   "outputs": [],
   "source": [
    "titanic_df = pd.read_csv('titanic.csv', index_col=0)\n",
    "titanic_df"
   ]
  },
  {
   "cell_type": "markdown",
   "id": "9f35822f-77da-4cbc-9434-e430f0bbc88d",
   "metadata": {},
   "source": [
    "## Quick plotting with plotly express"
   ]
  },
  {
   "cell_type": "code",
   "execution_count": null,
   "id": "c0bf18a5-a430-4438-a779-8b3756075b4b",
   "metadata": {},
   "outputs": [],
   "source": [
    "import plotly.express as px"
   ]
  },
  {
   "cell_type": "markdown",
   "id": "0db52a24-7fda-4ae2-b90e-584e14d7619f",
   "metadata": {},
   "source": [
    "### Simple plot"
   ]
  },
  {
   "cell_type": "code",
   "execution_count": null,
   "id": "248abba4-4695-42e4-913c-797c6d81c669",
   "metadata": {},
   "outputs": [],
   "source": [
    "fig = px.histogram(data_frame=titanic_df, x='Age')\n",
    "fig.show()"
   ]
  },
  {
   "cell_type": "markdown",
   "id": "213867de-bf06-4117-9d4b-1adbc51eaa4c",
   "metadata": {},
   "source": [
    "### Useful options"
   ]
  },
  {
   "cell_type": "code",
   "execution_count": null,
   "id": "f1fd5b48-eaba-4192-8d9d-6374d4ac8fa4",
   "metadata": {},
   "outputs": [],
   "source": [
    "fig = px.histogram(data_frame=titanic_df, x='Age', title='Passenger age',\n",
    "                   color_discrete_sequence=['black'], histnorm='percent')\n",
    "fig.show()"
   ]
  },
  {
   "cell_type": "markdown",
   "id": "67440598-a00e-4c06-9b06-bf5b7ff40f41",
   "metadata": {},
   "source": [
    "### Changing the layout"
   ]
  },
  {
   "cell_type": "code",
   "execution_count": null,
   "id": "907e6c50-e400-4625-a0b5-ae78910861d0",
   "metadata": {},
   "outputs": [],
   "source": [
    "fig = px.histogram(data_frame=titanic_df, x='Age', title='Passenger age',\n",
    "                   color_discrete_sequence=['black'], histnorm='percent')\n",
    "fig.update_layout(xaxis_title_text='Age (years)', yaxis_title_text='%')\n",
    "fig.update_yaxes(showgrid=False)\n",
    "fig.show()"
   ]
  },
  {
   "cell_type": "markdown",
   "id": "c45e4c28-6429-45ff-a489-79ada151bf24",
   "metadata": {},
   "source": [
    "### Multiple histograms - same plot"
   ]
  },
  {
   "cell_type": "code",
   "execution_count": null,
   "id": "ec099cd6-d180-4edf-818a-47a0c70f70e5",
   "metadata": {},
   "outputs": [],
   "source": [
    "fig = px.histogram(data_frame=titanic_df, x='Age', color='Pclass',\n",
    "                  barmode='overlay', opacity=0.5)\n",
    "fig.show()"
   ]
  },
  {
   "cell_type": "markdown",
   "id": "78eaa959-f019-4d5d-a4f4-b413c2fc4da4",
   "metadata": {},
   "source": [
    "### Multiple histograms - facets (subplots)"
   ]
  },
  {
   "cell_type": "code",
   "execution_count": null,
   "id": "a6fd8fd9-4fc8-4510-b388-ae561264e9d3",
   "metadata": {},
   "outputs": [],
   "source": [
    "fig = px.histogram(data_frame=titanic_df, x='Age', facet_col='Pclass', histnorm='percent')\n",
    "fig.show()"
   ]
  },
  {
   "cell_type": "markdown",
   "id": "0efcea22-b7ab-4cf1-b89a-2cc5e5c20ce0",
   "metadata": {},
   "source": [
    "### Another example - box plots"
   ]
  },
  {
   "cell_type": "code",
   "execution_count": null,
   "id": "67a09677-c71f-40c1-8b7b-aaf9a894cd47",
   "metadata": {},
   "outputs": [],
   "source": [
    "fig = px.box(titanic_df, x='Pclass', y=\"Age\", color=\"Survived\", facet_row='Sex')\n",
    "fig.show()"
   ]
  },
  {
   "cell_type": "markdown",
   "id": "acb503c3-636c-44ab-a06b-96afdf6a6c88",
   "metadata": {},
   "source": [
    "## Customized plotting with plotly graph objects"
   ]
  },
  {
   "cell_type": "code",
   "execution_count": null,
   "id": "fcf74400-17d1-44d9-a1af-e5cb0bb9a582",
   "metadata": {},
   "outputs": [],
   "source": [
    "import plotly.graph_objects as go"
   ]
  },
  {
   "cell_type": "markdown",
   "id": "36f079bc-976f-4d45-a04a-0e4e5940f77e",
   "metadata": {},
   "source": [
    "### A simple histogram with go"
   ]
  },
  {
   "cell_type": "code",
   "execution_count": null,
   "id": "fa321c7f-e1b6-446f-b203-0b1a46f7df6e",
   "metadata": {},
   "outputs": [],
   "source": [
    "fig = go.Figure()\n",
    "fig.add_trace(go.Histogram(x=titanic_df['Age']))\n",
    "fig.show()"
   ]
  },
  {
   "cell_type": "markdown",
   "id": "ee5e5b46-4876-4652-9f42-8972794615da",
   "metadata": {},
   "source": [
    "### Adding more traces"
   ]
  },
  {
   "cell_type": "code",
   "execution_count": null,
   "id": "aef2bdec-cd8e-4ef5-a448-f5431bd920dd",
   "metadata": {},
   "outputs": [],
   "source": [
    "fig = go.Figure()\n",
    "fig.add_trace(go.Histogram(x=titanic_df['Age'], opacity=0.5, name='Age'))\n",
    "fig.add_trace(go.Histogram(x=titanic_df['Fare'], opacity=0.5, name='Fare'))\n",
    "fig.update_layout(barmode='overlay')\n",
    "fig.show()"
   ]
  },
  {
   "cell_type": "markdown",
   "id": "360791bf-4356-47cd-8c2a-727d2d5c5f09",
   "metadata": {},
   "source": [
    "### Arbitrary subplots"
   ]
  },
  {
   "cell_type": "code",
   "execution_count": null,
   "id": "806a2db5-bb50-4d7f-b989-d9a8c1a06239",
   "metadata": {},
   "outputs": [],
   "source": [
    "from plotly.subplots import make_subplots"
   ]
  },
  {
   "cell_type": "code",
   "execution_count": null,
   "id": "73101172-b2eb-4803-9edc-d243195b4567",
   "metadata": {},
   "outputs": [],
   "source": [
    "fig = make_subplots(rows=1, cols=2)\n",
    "fig.add_trace(go.Histogram(x=titanic_df['Age']), row=1, col=1)\n",
    "fig.add_trace(go.Box(x=titanic_df['Pclass'], y=titanic_df['Age']), row=1, col=2)\n",
    "fig.update_layout(showlegend=False)\n",
    "fig.show()"
   ]
  },
  {
   "cell_type": "markdown",
   "id": "02dbe075-0893-4fdb-bc7d-1b1df650d8cd",
   "metadata": {},
   "source": [
    "### MSA diversity"
   ]
  },
  {
   "cell_type": "code",
   "execution_count": null,
   "id": "bf9d0b49-2905-4a22-9b78-9d27d880d396",
   "metadata": {},
   "outputs": [],
   "source": [
    "from Bio import AlignIO"
   ]
  },
  {
   "cell_type": "code",
   "execution_count": null,
   "id": "0bf85c24-abb4-48c9-a125-14e56f354ef9",
   "metadata": {},
   "outputs": [],
   "source": [
    "def msa_to_df(msa):\n",
    "    seq = []\n",
    "    for rec in msa:\n",
    "        seq_ser = pd.Series(list(rec.seq), name=rec.id)\n",
    "        seq.append(seq_ser)\n",
    "    return pd.concat(seq, axis=1)"
   ]
  },
  {
   "cell_type": "code",
   "execution_count": null,
   "id": "6a6d6ae4-5150-4771-9688-d4c6596c4e09",
   "metadata": {},
   "outputs": [],
   "source": [
    "def msa_plot(msa_p, ignore_gaps=False):\n",
    "    msa = AlignIO.read(msa_p, 'fasta')\n",
    "    msa_df = msa_to_df(msa)\n",
    "    freq_df = msa_df.apply(lambda row: row.value_counts(), axis=1).fillna(0)\n",
    "    residues = ['A','T','G','C','-']\n",
    "    if ignore_gaps:\n",
    "        residues = ['A','T','G','C']\n",
    "    freq_df = freq_df[residues]\n",
    "    frac_df = freq_df.div(freq_df.sum(axis=1), axis=0)\n",
    "    pos_diversity = 1 - frac_df.max(axis=1)\n",
    "    \n",
    "    fig = make_subplots(rows=2, cols=1, shared_xaxes=True, row_heights=[50,100])\n",
    "    fig.add_trace(go.Scatter(x=pos_diversity.index, y=pos_diversity, mode='lines', marker_color='black', name='Nucleotide diversity'),\n",
    "              col=1, row=1)\n",
    "    for res in residues:\n",
    "        fig.add_trace(go.Bar(x=frac_df.index, y=frac_df[res], name=res), col=1, row=2)\n",
    "    fig.update_layout(barmode='stack', bargap=0)\n",
    "    fig['layout']['xaxis2']['title']='Position'\n",
    "    return fig"
   ]
  },
  {
   "cell_type": "code",
   "execution_count": null,
   "id": "01c3a42e-863c-43bb-84c8-2c3ef5950a64",
   "metadata": {},
   "outputs": [],
   "source": [
    "fig = msa_plot('16SRNA_Deino_87seq.aln')\n",
    "fig.show()"
   ]
  },
  {
   "cell_type": "markdown",
   "id": "ccbbbe12-4c49-433a-b312-d46ac581ac68",
   "metadata": {},
   "source": [
    "## Themes\n",
    "Plotly has a bunch of layout themes."
   ]
  },
  {
   "cell_type": "code",
   "execution_count": null,
   "id": "5c1c5d41-22e3-416f-826a-d5a2794ce564",
   "metadata": {},
   "outputs": [],
   "source": [
    "import plotly.io as pio\n",
    "pio.templates"
   ]
  },
  {
   "cell_type": "code",
   "execution_count": null,
   "id": "a55561bd-4d7a-4d5b-afc1-e5461ed68548",
   "metadata": {},
   "outputs": [],
   "source": [
    "fig.update_layout(template='plotly_white')\n",
    "fig.show()"
   ]
  },
  {
   "cell_type": "code",
   "execution_count": null,
   "id": "3019f333-905d-4444-a3bf-bc6318f34653",
   "metadata": {},
   "outputs": [],
   "source": [
    "fig.update_layout(template='ggplot2')\n",
    "fig.show()"
   ]
  },
  {
   "cell_type": "markdown",
   "id": "61f3352b-8db0-46b2-909c-e986684a97d3",
   "metadata": {},
   "source": [
    "## Exporting figures"
   ]
  },
  {
   "cell_type": "markdown",
   "id": "e32d4fe8-1e8c-4759-9c2e-9cff7348d95e",
   "metadata": {},
   "source": [
    "### To static image"
   ]
  },
  {
   "cell_type": "code",
   "execution_count": null,
   "id": "a3a16377-f694-47f1-b461-0db4f113a2f5",
   "metadata": {},
   "outputs": [],
   "source": [
    "# To png\n",
    "fig.write_image('MSA.png')\n",
    "# To pdf\n",
    "fig.write_image('MSA.pdf')"
   ]
  },
  {
   "cell_type": "markdown",
   "id": "424d89c1-4133-4275-9a62-364ca6d77fd8",
   "metadata": {},
   "source": [
    "### To HTML"
   ]
  },
  {
   "cell_type": "code",
   "execution_count": null,
   "id": "3528ae78-0de2-4b8b-919a-3890f4cc99b0",
   "metadata": {},
   "outputs": [],
   "source": [
    "fig.write_html('MSA.html')"
   ]
  },
  {
   "cell_type": "markdown",
   "id": "bc0ee424-434d-4a03-afbe-1c2c601c0642",
   "metadata": {},
   "source": [
    "### The whole notebook to HTML"
   ]
  },
  {
   "cell_type": "code",
   "execution_count": null,
   "id": "f687712a-b1db-42c9-94f8-736649c572c1",
   "metadata": {},
   "outputs": [],
   "source": [
    "!jupyter nbconvert intro_to_plotly.ipynb --to html --execute"
   ]
  },
  {
   "cell_type": "markdown",
   "id": "da23cbd6-9cf3-4f83-b5fa-31f151253a0d",
   "metadata": {},
   "source": [
    "## Widgets\n",
    "Plotly has built-in options for buttons, sliders, checkboxes etc, providing high levels of control.  \n",
    "But in many cases it is easier to use ipywidgets."
   ]
  },
  {
   "cell_type": "code",
   "execution_count": null,
   "id": "0b1e37ee-5eb2-468e-820a-356e17974ba5",
   "metadata": {},
   "outputs": [],
   "source": [
    "from ipywidgets import widgets\n",
    "from ipywidgets import interact, fixed"
   ]
  },
  {
   "cell_type": "code",
   "execution_count": null,
   "id": "593bf056-fd7b-4861-94a4-53cc7e1069d1",
   "metadata": {},
   "outputs": [],
   "source": [
    "interact(msa_plot, msa_p=fixed('16SRNA_Deino_87seq.aln'), ignore_gaps=False)"
   ]
  }
 ],
 "metadata": {
  "kernelspec": {
   "display_name": "Python 3 (ipykernel)",
   "language": "python",
   "name": "python3"
  },
  "language_info": {
   "codemirror_mode": {
    "name": "ipython",
    "version": 3
   },
   "file_extension": ".py",
   "mimetype": "text/x-python",
   "name": "python",
   "nbconvert_exporter": "python",
   "pygments_lexer": "ipython3",
   "version": "3.8.13"
  }
 },
 "nbformat": 4,
 "nbformat_minor": 5
}
